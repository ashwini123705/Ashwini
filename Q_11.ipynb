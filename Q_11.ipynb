{
 "cells": [
  {
   "cell_type": "markdown",
   "id": "1eec117a",
   "metadata": {},
   "source": [
    "Q11)  Suppose we want to estimate the average weight of an adult male in    Mexico. We draw a random sample of 2,000 men from a population of 3,000,000 men and weigh them. We find that the average person in our sample weighs 200 pounds, and the standard deviation of the sample is 30 pounds. Calculate 94%,98%,96% confidence interval?"
   ]
  },
  {
   "cell_type": "code",
   "execution_count": 24,
   "id": "8eb7e33e",
   "metadata": {},
   "outputs": [],
   "source": [
    "import math\n",
    "from scipy import stats\n",
    "from scipy.stats import norm"
   ]
  },
  {
   "cell_type": "code",
   "execution_count": 25,
   "id": "f4ceaf68",
   "metadata": {},
   "outputs": [],
   "source": [
    "#Given Data\n",
    "x_barh = 200\n",
    "sample_std_dev = 30\n",
    "sample_size = 2000"
   ]
  },
  {
   "cell_type": "code",
   "execution_count": 26,
   "id": "d4900c92",
   "metadata": {},
   "outputs": [
    {
     "data": {
      "text/plain": [
       "1.8807936081512509"
      ]
     },
     "execution_count": 26,
     "metadata": {},
     "output_type": "execute_result"
    }
   ],
   "source": [
    "#CI = 94% = 0.94\n",
    "alpha = 1 - 0.94\n",
    "stats.norm.ppf(1-alpha/2)"
   ]
  },
  {
   "cell_type": "code",
   "execution_count": 27,
   "id": "a21f5c7c",
   "metadata": {},
   "outputs": [
    {
     "data": {
      "text/plain": [
       "198.73832771257946"
      ]
     },
     "execution_count": 27,
     "metadata": {},
     "output_type": "execute_result"
    }
   ],
   "source": [
    "lower_limit = (200 - (1.88079 * (30/math.sqrt(2000))))\n",
    "lower_limit"
   ]
  },
  {
   "cell_type": "code",
   "execution_count": 28,
   "id": "252ff52d",
   "metadata": {},
   "outputs": [
    {
     "data": {
      "text/plain": [
       "201.26167228742054"
      ]
     },
     "execution_count": 28,
     "metadata": {},
     "output_type": "execute_result"
    }
   ],
   "source": [
    "upper_limit = (200 + (1.88079 * (30/math.sqrt(2000))))\n",
    "upper_limit"
   ]
  },
  {
   "cell_type": "code",
   "execution_count": 29,
   "id": "1099f6d8",
   "metadata": {},
   "outputs": [
    {
     "data": {
      "text/plain": [
       "2.3263478740408408"
      ]
     },
     "execution_count": 29,
     "metadata": {},
     "output_type": "execute_result"
    }
   ],
   "source": [
    "#CI = 98% = 0.98\n",
    "alpha = 1 - 0.98\n",
    "stats.norm.ppf(1-alpha/2)"
   ]
  },
  {
   "cell_type": "code",
   "execution_count": 30,
   "id": "f36048a7",
   "metadata": {},
   "outputs": [
    {
     "data": {
      "text/plain": [
       "198.43944368636693"
      ]
     },
     "execution_count": 30,
     "metadata": {},
     "output_type": "execute_result"
    }
   ],
   "source": [
    "lower_limit = (200 - (2.32634 * (30/math.sqrt(2000))))\n",
    "lower_limit"
   ]
  },
  {
   "cell_type": "code",
   "execution_count": 31,
   "id": "f023d0b8",
   "metadata": {},
   "outputs": [
    {
     "data": {
      "text/plain": [
       "201.56055631363307"
      ]
     },
     "execution_count": 31,
     "metadata": {},
     "output_type": "execute_result"
    }
   ],
   "source": [
    "upper_limit = (200 + (2.32634 * (30/math.sqrt(2000))))\n",
    "upper_limit"
   ]
  },
  {
   "cell_type": "code",
   "execution_count": 32,
   "id": "4e1e5af3",
   "metadata": {},
   "outputs": [
    {
     "data": {
      "text/plain": [
       "2.0537489106318225"
      ]
     },
     "execution_count": 32,
     "metadata": {},
     "output_type": "execute_result"
    }
   ],
   "source": [
    "#CI = 96% = 0.96\n",
    "alpha = 1 - 0.96\n",
    "stats.norm.ppf(1-alpha/2)"
   ]
  },
  {
   "cell_type": "code",
   "execution_count": 33,
   "id": "aab95958",
   "metadata": {},
   "outputs": [
    {
     "data": {
      "text/plain": [
       "198.62230395900372"
      ]
     },
     "execution_count": 33,
     "metadata": {},
     "output_type": "execute_result"
    }
   ],
   "source": [
    "lower_limit = (200 - (2.053748 * (30/math.sqrt(2000))))\n",
    "lower_limit"
   ]
  },
  {
   "cell_type": "code",
   "execution_count": 34,
   "id": "cbcbd0ee",
   "metadata": {},
   "outputs": [
    {
     "data": {
      "text/plain": [
       "201.37769604099628"
      ]
     },
     "execution_count": 34,
     "metadata": {},
     "output_type": "execute_result"
    }
   ],
   "source": [
    "upper_limit = (200 + (2.053748 * (30/math.sqrt(2000))))\n",
    "upper_limit"
   ]
  }
 ],
 "metadata": {
  "kernelspec": {
   "display_name": "Python 3 (ipykernel)",
   "language": "python",
   "name": "python3"
  },
  "language_info": {
   "codemirror_mode": {
    "name": "ipython",
    "version": 3
   },
   "file_extension": ".py",
   "mimetype": "text/x-python",
   "name": "python",
   "nbconvert_exporter": "python",
   "pygments_lexer": "ipython3",
   "version": "3.11.5"
  }
 },
 "nbformat": 4,
 "nbformat_minor": 5
}
