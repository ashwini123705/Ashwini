{
 "cells": [
  {
   "cell_type": "markdown",
   "id": "181c8a40",
   "metadata": {},
   "source": [
    "Q 24)   A Government  company claims that an average light bulb lasts 270 days.\n",
    "A researcher randomly selects 18 bulbs for testing. The sampled bulbs last \n",
    "an average of 260 days, with a standard deviation of 90 days. \n",
    "If the CEO's claim were true, what is the probability that 18 randomly\n",
    "selected bulbs would have an average life of no more than 260 days\n",
    "\n",
    "Hint:  \n",
    "   rcode -> pt(tscore,df)  \n",
    " df -> degrees of freedom\n"
   ]
  },
  {
   "cell_type": "code",
   "execution_count": 6,
   "id": "528d68c2",
   "metadata": {},
   "outputs": [],
   "source": [
    "import scipy.stats as stats\n",
    "import math"
   ]
  },
  {
   "cell_type": "code",
   "execution_count": 8,
   "id": "820bafb2",
   "metadata": {},
   "outputs": [],
   "source": [
    "#Given Data\n",
    "x = 260 #sample_mean\n",
    "s = 90 #sample_std_dev \n",
    "n = 18 #sample_size\n",
    "p = 270 #population_mean\n",
    "df = n - 1 #degree of freedom"
   ]
  },
  {
   "cell_type": "code",
   "execution_count": 9,
   "id": "f1f72898",
   "metadata": {},
   "outputs": [
    {
     "data": {
      "text/plain": [
       "-0.4714045207910317"
      ]
     },
     "execution_count": 9,
     "metadata": {},
     "output_type": "execute_result"
    }
   ],
   "source": [
    "#finding t_stats\n",
    "tstats = (x - p) / (s / math.sqrt(n))\n",
    "tstats"
   ]
  },
  {
   "cell_type": "code",
   "execution_count": 14,
   "id": "57131a43",
   "metadata": {},
   "outputs": [
    {
     "data": {
      "text/plain": [
       "0.32167253567098353"
      ]
     },
     "execution_count": 14,
     "metadata": {},
     "output_type": "execute_result"
    }
   ],
   "source": [
    "#Calculate probability using cumulative distribution function (CDF)\n",
    "pvalue = 1 - stats.t.cdf(abs(tstats), df)\n",
    "pvalue"
   ]
  },
  {
   "cell_type": "code",
   "execution_count": 16,
   "id": "0e849336",
   "metadata": {},
   "outputs": [
    {
     "name": "stdout",
     "output_type": "stream",
     "text": [
      "The t-score is: -0.471\n",
      "The probability that 18 randomly selected bulbs would have an average life of no more than 260 days is: 0.3217\n"
     ]
    }
   ],
   "source": [
    "print(f\"The t-score is: {tstats:.3f}\")\n",
    "print(f\"The probability that 18 randomly selected bulbs would have an average life of no more than 260 days is: {pvalue:.4f}\")"
   ]
  }
 ],
 "metadata": {
  "kernelspec": {
   "display_name": "Python 3 (ipykernel)",
   "language": "python",
   "name": "python3"
  },
  "language_info": {
   "codemirror_mode": {
    "name": "ipython",
    "version": 3
   },
   "file_extension": ".py",
   "mimetype": "text/x-python",
   "name": "python",
   "nbconvert_exporter": "python",
   "pygments_lexer": "ipython3",
   "version": "3.11.5"
  }
 },
 "nbformat": 4,
 "nbformat_minor": 5
}
