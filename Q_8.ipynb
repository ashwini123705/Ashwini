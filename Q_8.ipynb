{
 "cells": [
  {
   "cell_type": "markdown",
   "id": "f3a943e3",
   "metadata": {},
   "source": [
    "Q8) Calculate Expected Value for the problem below\n",
    "a)\tThe weights (X) of patients at a clinic (in pounds), are\n",
    "108, 110, 123, 134, 135, 145, 167, 187, 199\n",
    "Assume one of the patients is chosen at random. What is the Expected Value of the Weight of that patient?\n"
   ]
  },
  {
   "cell_type": "code",
   "execution_count": 2,
   "id": "ee6d0cb1",
   "metadata": {},
   "outputs": [],
   "source": [
    "#given data \n",
    "#weights as X in pounds \n",
    "X = [108, 110, 123, 134, 135, 145, 167, 187, 199]\n",
    "\n",
    "#calculate the no of patients\n",
    "N = len(X)"
   ]
  },
  {
   "cell_type": "code",
   "execution_count": 3,
   "id": "19e92969",
   "metadata": {},
   "outputs": [
    {
     "name": "stdout",
     "output_type": "stream",
     "text": [
      "No of patients: 9\n"
     ]
    }
   ],
   "source": [
    "print('No of patients:', N)"
   ]
  },
  {
   "cell_type": "code",
   "execution_count": 4,
   "id": "43b15a83",
   "metadata": {},
   "outputs": [],
   "source": [
    "#calculate the expected value\n",
    "exp_value = sum(X) / N"
   ]
  },
  {
   "cell_type": "code",
   "execution_count": 5,
   "id": "61c1a91a",
   "metadata": {},
   "outputs": [
    {
     "name": "stdout",
     "output_type": "stream",
     "text": [
      "Expected Value: 145.33333333333334\n"
     ]
    }
   ],
   "source": [
    "print('Expected Value:', exp_value)"
   ]
  },
  {
   "cell_type": "code",
   "execution_count": null,
   "id": "b0e82ca0",
   "metadata": {},
   "outputs": [],
   "source": []
  }
 ],
 "metadata": {
  "kernelspec": {
   "display_name": "Python 3 (ipykernel)",
   "language": "python",
   "name": "python3"
  },
  "language_info": {
   "codemirror_mode": {
    "name": "ipython",
    "version": 3
   },
   "file_extension": ".py",
   "mimetype": "text/x-python",
   "name": "python",
   "nbconvert_exporter": "python",
   "pygments_lexer": "ipython3",
   "version": "3.11.5"
  }
 },
 "nbformat": 4,
 "nbformat_minor": 5
}
